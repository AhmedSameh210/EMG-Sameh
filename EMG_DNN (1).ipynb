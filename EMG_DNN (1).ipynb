{
  "cells": [
    {
      "cell_type": "markdown",
      "metadata": {
        "id": "BlqWPpM2aqyr"
      },
      "source": [
        "Electromyography (EMG):\n",
        "\n",
        "EMG is a technique that involves recording and analyzing the electrical activity produced by skeletal muscles.\n",
        "It is commonly used in various applications, including prosthetics, to capture signals related to muscle contractions and movements.\n",
        "Non-Invasive:\n",
        "\n",
        "Non-invasive approaches involve methods that do not require the penetration of the skin or any other body surface. In the context of prosthetics, this often refers to methods that don't require surgery.\n",
        "Naturally-Controlled:\n",
        "\n",
        "Naturally-controlled prosthetics aim to provide a more intuitive and natural interface for users. This often involves capturing and interpreting signals directly related to the user's intended movements.\n",
        "Robotic Hand Prostheses:\n",
        "\n",
        "Robotic hand prostheses are artificial hands designed to replace or augment the functionality of a missing hand.\n",
        "These prostheses can be controlled using various methods, including EMG signals, to enable users to perform a range of hand movements."
      ]
    },
    {
      "cell_type": "markdown",
      "metadata": {
        "id": "5a5C-Sjhaw2F"
      },
      "source": [
        "The EMG signals were recorded from 12 electrodes placed on the forearm and upper arm."
      ]
    },
    {
      "cell_type": "markdown",
      "metadata": {
        "id": "7s71vSPva3AS"
      },
      "source": [
        "14 column of output is angles that describe the motion"
      ]
    },
    {
      "cell_type": "code",
      "execution_count": 1,
      "metadata": {
        "colab": {
          "base_uri": "https://localhost:8080/"
        },
        "id": "jPn2oZ11alNr",
        "outputId": "cfc59e88-1c38-44f3-b540-a40faf8e506d"
      },
      "outputs": [
        {
          "output_type": "stream",
          "name": "stdout",
          "text": [
            "Mounted at /content/drive\n"
          ]
        }
      ],
      "source": [
        "from google.colab import drive\n",
        "\n",
        "drive.mount('/content/drive')\n"
      ]
    },
    {
      "cell_type": "code",
      "execution_count": 2,
      "metadata": {
        "colab": {
          "base_uri": "https://localhost:8080/"
        },
        "id": "EGpkC0YrbBaw",
        "outputId": "505e3b7f-afaf-4bf9-e989-4188b7ad08dc"
      },
      "outputs": [
        {
          "output_type": "stream",
          "name": "stdout",
          "text": [
            "Array Values:\n",
            "[[-2.8512097e-06  3.3552608e-06  1.5988660e-06 ...  1.4699236e-06\n",
            "  -5.6090889e-06  4.0180992e-05]\n",
            " [-4.6977384e-06  3.3552124e-06  1.4304406e-06 ...  2.4781623e-06\n",
            "  -3.2593930e-06  4.9580311e-05]\n",
            " [-2.6837340e-06  4.0265595e-06  9.2631649e-07 ...  2.4793057e-06\n",
            "  -7.0452693e-08  4.7062331e-05]\n",
            " ...\n",
            " [ 1.2604414e-05  3.4272251e-08 -2.9844853e-07 ... -1.0334954e-05\n",
            "  -9.0856147e-06 -2.2172696e-06]\n",
            " [ 4.8833322e-06 -6.3691493e-07 -1.8085398e-06 ... -4.9637788e-06\n",
            "  -1.0932163e-05 -1.0424706e-06]\n",
            " [ 2.7012754e-06 -1.6438012e-06 -4.6614246e-06 ...  1.4842431e-05\n",
            "  -1.1603769e-05  1.3072749e-06]]\n"
          ]
        }
      ],
      "source": [
        "import numpy as np\n",
        "\n",
        "# Specify the path to your .npy file\n",
        "file_path = '/content/drive/MyDrive/X_train_tabular.npy'\n",
        "\n",
        "# Load the .npy file\n",
        "x = np.load(file_path)\n",
        "\n",
        "# Print the array values\n",
        "print(\"Array Values:\")\n",
        "print(x)\n"
      ]
    },
    {
      "cell_type": "code",
      "execution_count": 3,
      "metadata": {
        "colab": {
          "base_uri": "https://localhost:8080/"
        },
        "id": "xIyI_DUMbL89",
        "outputId": "52094c2c-16fd-4226-b303-3c429d68a5f4"
      },
      "outputs": [
        {
          "output_type": "execute_result",
          "data": {
            "text/plain": [
              "4361620"
            ]
          },
          "metadata": {},
          "execution_count": 3
        }
      ],
      "source": [
        "len(x)"
      ]
    },
    {
      "cell_type": "code",
      "execution_count": 4,
      "metadata": {
        "colab": {
          "base_uri": "https://localhost:8080/"
        },
        "id": "re3eJza0bQhj",
        "outputId": "fc4d0fdf-3539-4670-cded-a277a63d756c"
      },
      "outputs": [
        {
          "output_type": "execute_result",
          "data": {
            "text/plain": [
              "(4361620, 12)"
            ]
          },
          "metadata": {},
          "execution_count": 4
        }
      ],
      "source": [
        "x.shape"
      ]
    },
    {
      "cell_type": "code",
      "execution_count": 5,
      "metadata": {
        "colab": {
          "base_uri": "https://localhost:8080/"
        },
        "id": "FdGJfpfKbUP_",
        "outputId": "46f689df-029b-42bd-a3ec-fd19fe220d54"
      },
      "outputs": [
        {
          "output_type": "stream",
          "name": "stdout",
          "text": [
            "Array Values:\n",
            "[[ 7.80701727 14.62264061 32.20779657 ... 52.83019066  8.73786449\n",
            "  62.36842453]\n",
            " [ 7.80701727 14.62264061 32.20779657 ... 52.83019066  8.73786449\n",
            "  62.36842453]\n",
            " [ 7.80701727 14.62264061 32.20779657 ... 52.83019066  8.73786449\n",
            "  62.36842453]\n",
            " ...\n",
            " [ 6.65093914 12.72727251 24.16666746 ... 98.12293768 57.67605007\n",
            "  65.25891781]\n",
            " [ 6.64944917 12.72727251 24.16666746 ... 98.09273243 57.67605007\n",
            "  65.27244151]\n",
            " [ 6.64795786 12.72727251 24.16666746 ... 98.06253433 57.67605007\n",
            "  65.28595984]]\n"
          ]
        }
      ],
      "source": [
        "\n",
        "# Specify the path to your .npy file\n",
        "file_path = '/content/drive/MyDrive/y_train_tabular.npy'\n",
        "\n",
        "# Load the .npy file\n",
        "y = np.load(file_path)\n",
        "\n",
        "# Print the array values\n",
        "print(\"Array Values:\")\n",
        "print(y)\n"
      ]
    },
    {
      "cell_type": "code",
      "execution_count": 6,
      "metadata": {
        "colab": {
          "base_uri": "https://localhost:8080/"
        },
        "id": "7fiMF9jfbXKy",
        "outputId": "092c357b-2440-43e2-d214-4ccd404cb1b1"
      },
      "outputs": [
        {
          "output_type": "execute_result",
          "data": {
            "text/plain": [
              "4361620"
            ]
          },
          "metadata": {},
          "execution_count": 6
        }
      ],
      "source": [
        "len(y)"
      ]
    },
    {
      "cell_type": "code",
      "execution_count": 7,
      "metadata": {
        "colab": {
          "base_uri": "https://localhost:8080/"
        },
        "id": "_N1seKN7bZfe",
        "outputId": "e1b746af-7c55-4b3e-9df1-1431e4131016"
      },
      "outputs": [
        {
          "output_type": "execute_result",
          "data": {
            "text/plain": [
              "(4361620, 14)"
            ]
          },
          "metadata": {},
          "execution_count": 7
        }
      ],
      "source": [
        "y.shape"
      ]
    },
    {
      "cell_type": "code",
      "execution_count": 8,
      "metadata": {
        "id": "RYqic_Tibc-n"
      },
      "outputs": [],
      "source": [
        "import torch\n",
        "import torch.nn as nn\n",
        "import torch.optim as optim\n",
        "from torch.utils.data import DataLoader, TensorDataset\n",
        "\n",
        "# Assuming X is your input data and Y is your target data\n",
        "# Convert your numpy arrays to PyTorch tensors\n",
        "X = torch.tensor(x, dtype=torch.float32)\n",
        "Y = torch.tensor(y, dtype=torch.float32)"
      ]
    },
    {
      "cell_type": "code",
      "execution_count": 9,
      "metadata": {
        "colab": {
          "base_uri": "https://localhost:8080/"
        },
        "id": "vCizqiibbgad",
        "outputId": "e8f4f088-0a29-4bf7-dcbe-ae590505811a"
      },
      "outputs": [
        {
          "output_type": "execute_result",
          "data": {
            "text/plain": [
              "tensor([[-2.8512e-06,  3.3553e-06,  1.5989e-06,  ...,  1.4699e-06,\n",
              "         -5.6091e-06,  4.0181e-05],\n",
              "        [-4.6977e-06,  3.3552e-06,  1.4304e-06,  ...,  2.4782e-06,\n",
              "         -3.2594e-06,  4.9580e-05],\n",
              "        [-2.6837e-06,  4.0266e-06,  9.2632e-07,  ...,  2.4793e-06,\n",
              "         -7.0453e-08,  4.7062e-05],\n",
              "        ...,\n",
              "        [ 1.2604e-05,  3.4272e-08, -2.9845e-07,  ..., -1.0335e-05,\n",
              "         -9.0856e-06, -2.2173e-06],\n",
              "        [ 4.8833e-06, -6.3691e-07, -1.8085e-06,  ..., -4.9638e-06,\n",
              "         -1.0932e-05, -1.0425e-06],\n",
              "        [ 2.7013e-06, -1.6438e-06, -4.6614e-06,  ...,  1.4842e-05,\n",
              "         -1.1604e-05,  1.3073e-06]])"
            ]
          },
          "metadata": {},
          "execution_count": 9
        }
      ],
      "source": [
        "  X"
      ]
    },
    {
      "cell_type": "code",
      "execution_count": 10,
      "metadata": {
        "colab": {
          "base_uri": "https://localhost:8080/"
        },
        "id": "E6jJxdgZbhZm",
        "outputId": "744f2be2-37d3-40fc-e245-ab6fabee0a10"
      },
      "outputs": [
        {
          "output_type": "execute_result",
          "data": {
            "text/plain": [
              "tensor([[ 7.8070, 14.6226, 32.2078,  ..., 52.8302,  8.7379, 62.3684],\n",
              "        [ 7.8070, 14.6226, 32.2078,  ..., 52.8302,  8.7379, 62.3684],\n",
              "        [ 7.8070, 14.6226, 32.2078,  ..., 52.8302,  8.7379, 62.3684],\n",
              "        ...,\n",
              "        [ 6.6509, 12.7273, 24.1667,  ..., 98.1229, 57.6760, 65.2589],\n",
              "        [ 6.6494, 12.7273, 24.1667,  ..., 98.0927, 57.6760, 65.2724],\n",
              "        [ 6.6480, 12.7273, 24.1667,  ..., 98.0625, 57.6760, 65.2860]])"
            ]
          },
          "metadata": {},
          "execution_count": 10
        }
      ],
      "source": [
        "Y"
      ]
    },
    {
      "cell_type": "markdown",
      "metadata": {
        "id": "VQdKrEJWbivg"
      },
      "source": [
        "DNN Archticture"
      ]
    },
    {
      "cell_type": "code",
      "execution_count": 11,
      "metadata": {
        "colab": {
          "base_uri": "https://localhost:8080/"
        },
        "id": "9oKsSopjcv4y",
        "outputId": "16c25749-88ed-4dc9-d705-39b27aa444dc"
      },
      "outputs": [
        {
          "output_type": "stream",
          "name": "stdout",
          "text": [
            "GPU is not available. Using CPU.\n"
          ]
        }
      ],
      "source": [
        "import torch\n",
        "\n",
        "# Check if CUDA (GPU support) is available\n",
        "if torch.cuda.is_available():\n",
        "    print(\"GPU is available!\")\n",
        "else:\n",
        "    print(\"GPU is not available. Using CPU.\")"
      ]
    },
    {
      "cell_type": "code",
      "execution_count": 12,
      "metadata": {
        "id": "9ehp4qgEd4qy"
      },
      "outputs": [],
      "source": [
        "if torch.cuda.is_available():\n",
        "    X,Y = X.to('cuda'), Y.to('cuda')"
      ]
    },
    {
      "cell_type": "code",
      "execution_count": 13,
      "metadata": {
        "id": "UStXveItbo2o"
      },
      "outputs": [],
      "source": [
        "class NeuralNetwork(nn.Module):\n",
        "    def __init__(self):\n",
        "        super(NeuralNetwork, self).__init__()\n",
        "        self.fc1 = nn.Linear(12, 64)  # INPUT\n",
        "        self.relu1 = nn.ReLU()\n",
        "        self.fc2 = nn.Linear(64, 32)\n",
        "        self.relu2 = nn.ReLU()\n",
        "        self.fc3 = nn.Linear(32, 14)  # Output\n",
        "\n",
        "    def forward(self, x):\n",
        "        x = self.fc1(x)\n",
        "        x = self.relu1(x)\n",
        "        x = self.fc2(x)\n",
        "        x = self.relu2(x)\n",
        "        x = self.fc3(x)\n",
        "        return x\n",
        "\n"
      ]
    },
    {
      "cell_type": "code",
      "execution_count": 14,
      "metadata": {
        "id": "DTQOeuvFbr0l"
      },
      "outputs": [],
      "source": [
        "\n",
        "epochs = 10\n",
        "batch_size = 64\n",
        "\n",
        "# Create DataLoader\n",
        "dataset = TensorDataset(X, Y)\n",
        "dataloader = DataLoader(dataset, batch_size=batch_size, shuffle=True)\n",
        "\n",
        "\n",
        "model = NeuralNetwork()\n",
        "if torch.cuda.is_available():\n",
        "    model = model.to('cuda')\n",
        "\n",
        "criterion = nn.MSELoss()\n",
        "optimizer = optim.Adam(model.parameters(), lr=0.001)\n",
        "\n",
        "\n",
        "\n",
        "\n",
        "\n"
      ]
    },
    {
      "cell_type": "code",
      "execution_count": 16,
      "metadata": {
        "colab": {
          "base_uri": "https://localhost:8080/",
          "height": 819
        },
        "id": "R_xyCsLXbvFN",
        "outputId": "a9a3bf22-1fc4-4dba-c094-a48c9056d139"
      },
      "outputs": [
        {
          "output_type": "stream",
          "name": "stdout",
          "text": [
            "Epoch [1/10], Avg. Loss: 317.2630\n",
            "Epoch 1/10, Loss: 301.83685302734375\n",
            "Epoch [2/10], Avg. Loss: 317.2529\n",
            "Epoch 2/10, Loss: 283.6191711425781\n",
            "Epoch [3/10], Avg. Loss: 317.2538\n",
            "Epoch 3/10, Loss: 500.1053161621094\n",
            "Epoch [4/10], Avg. Loss: 317.2425\n",
            "Epoch 4/10, Loss: 348.75372314453125\n",
            "Epoch [5/10], Avg. Loss: 317.2373\n",
            "Epoch 5/10, Loss: 300.3931579589844\n",
            "Epoch [6/10], Avg. Loss: 317.2348\n",
            "Epoch 6/10, Loss: 239.70510864257812\n",
            "Epoch [7/10], Avg. Loss: 317.2335\n",
            "Epoch 7/10, Loss: 336.9353942871094\n",
            "Epoch [8/10], Avg. Loss: 317.2346\n",
            "Epoch 8/10, Loss: 410.6955261230469\n",
            "Epoch [9/10], Avg. Loss: 317.2225\n",
            "Epoch 9/10, Loss: 356.4151916503906\n",
            "Epoch [10/10], Avg. Loss: 317.2167\n",
            "Epoch 10/10, Loss: 333.28643798828125\n"
          ]
        },
        {
          "output_type": "display_data",
          "data": {
            "text/plain": [
              "<Figure size 640x480 with 1 Axes>"
            ],
            "image/png": "[encoded data removed]"
          },
          "metadata": {}
        }
      ],
      "source": [
        "import matplotlib.pyplot as plt\n",
        "\n",
        "all_losses = []\n",
        "# Training loop\n",
        "for epoch in range(epochs):\n",
        "    epoch_loss=0.0\n",
        "    for batch_X, batch_Y in dataloader:\n",
        "        if torch.cuda.is_available():\n",
        "          batch_X, batch_Y = batch_X.to('cuda'), batch_Y.to('cuda')\n",
        "        optimizer.zero_grad()\n",
        "        output = model(batch_X)\n",
        "        loss = criterion(output, batch_Y)\n",
        "        loss.backward()\n",
        "        optimizer.step()\n",
        "        epoch_loss += loss.item()\n",
        "\n",
        "    # Calculate average loss for the epoch\n",
        "    avg_epoch_loss = epoch_loss / len(dataloader)\n",
        "\n",
        "    # Print the average loss for the epoch\n",
        "    print(f'Epoch [{epoch+1}/{epochs}], Avg. Loss: {avg_epoch_loss:.4f}')\n",
        "\n",
        "    # Save the average loss for plotting\n",
        "    all_losses.append(avg_epoch_loss)\n",
        "\n",
        "    print(f'Epoch {epoch+1}/{epochs}, Loss: {loss.item()}')\n",
        "\n",
        "\n",
        "\n"
      ]
    },
    {
      "cell_type": "code",
      "execution_count": 17,
      "metadata": {
        "id": "la1JEM1Hf02k"
      },
      "outputs": [],
      "source": [
        "%matplotlib inline"
      ]
    },
    {
      "cell_type": "markdown",
      "metadata": {
        "id": "wE3B0R8Ebyyf"
      },
      "source": [
        "Conclusion :\n",
        "\n",
        "DNN is poor while dealing with this signal data , we will try CNN"
      ]
    }
  ],
  "metadata": {
    "accelerator": "GPU",
    "colab": {
      "provenance": []
    },
    "kernelspec": {
      "display_name": "Python 3",
      "name": "python3"
    },
    "language_info": {
      "name": "python"
    }
  },
  "nbformat": 4,
  "nbformat_minor": 0
}