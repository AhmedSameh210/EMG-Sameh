{
  "nbformat": 4,
  "nbformat_minor": 0,
  "metadata": {
    "colab": {
      "provenance": [],
      "gpuType": "T4"
    },
    "kernelspec": {
      "name": "python3",
      "display_name": "Python 3"
    },
    "language_info": {
      "name": "python"
    },
    "accelerator": "GPU"
  },
  "cells": [
    {
      "cell_type": "code",
      "source": [
        "from google.colab import drive\n",
        "\n",
        "drive.mount('/content/drive')\n"
      ],
      "metadata": {
        "colab": {
          "base_uri": "https://localhost:8080/"
        },
        "id": "9KyrAYZUlSfc",
        "outputId": "1e051262-dff2-4c76-fb8d-608012b9ded7"
      },
      "execution_count": 1,
      "outputs": [
        {
          "output_type": "stream",
          "name": "stdout",
          "text": [
            "Mounted at /content/drive\n"
          ]
        }
      ]
    },
    {
      "cell_type": "code",
      "source": [
        "import numpy as np\n",
        "\n",
        "# Specify the path to your .npy file\n",
        "file_path = '/content/drive/MyDrive/X_train_tabular.npy'\n",
        "\n",
        "# Load the .npy file\n",
        "x = np.load(file_path)\n",
        "\n",
        "# Print the array values\n",
        "print(\"Array Values:\")\n",
        "print(x)\n"
      ],
      "metadata": {
        "colab": {
          "base_uri": "https://localhost:8080/"
        },
        "id": "T7___d7PmNQ1",
        "outputId": "7ec471ee-cfda-4375-8881-a18761d3eb43"
      },
      "execution_count": 2,
      "outputs": [
        {
          "output_type": "stream",
          "name": "stdout",
          "text": [
            "Array Values:\n",
            "[[-2.8512097e-06  3.3552608e-06  1.5988660e-06 ...  1.4699236e-06\n",
            "  -5.6090889e-06  4.0180992e-05]\n",
            " [-4.6977384e-06  3.3552124e-06  1.4304406e-06 ...  2.4781623e-06\n",
            "  -3.2593930e-06  4.9580311e-05]\n",
            " [-2.6837340e-06  4.0265595e-06  9.2631649e-07 ...  2.4793057e-06\n",
            "  -7.0452693e-08  4.7062331e-05]\n",
            " ...\n",
            " [ 1.2604414e-05  3.4272251e-08 -2.9844853e-07 ... -1.0334954e-05\n",
            "  -9.0856147e-06 -2.2172696e-06]\n",
            " [ 4.8833322e-06 -6.3691493e-07 -1.8085398e-06 ... -4.9637788e-06\n",
            "  -1.0932163e-05 -1.0424706e-06]\n",
            " [ 2.7012754e-06 -1.6438012e-06 -4.6614246e-06 ...  1.4842431e-05\n",
            "  -1.1603769e-05  1.3072749e-06]]\n"
          ]
        }
      ]
    },
    {
      "cell_type": "code",
      "source": [
        "len(x)"
      ],
      "metadata": {
        "colab": {
          "base_uri": "https://localhost:8080/"
        },
        "id": "Wn7TJPU8mlEJ",
        "outputId": "40349f36-0144-47b1-b8c0-ff046e5562c6"
      },
      "execution_count": 3,
      "outputs": [
        {
          "output_type": "execute_result",
          "data": {
            "text/plain": [
              "4361620"
            ]
          },
          "metadata": {},
          "execution_count": 3
        }
      ]
    },
    {
      "cell_type": "code",
      "source": [
        "x.shape"
      ],
      "metadata": {
        "colab": {
          "base_uri": "https://localhost:8080/"
        },
        "id": "Dv2h1qK6mwwC",
        "outputId": "a2865d25-5f1f-46c5-dcd2-a7409f8c56c4"
      },
      "execution_count": 4,
      "outputs": [
        {
          "output_type": "execute_result",
          "data": {
            "text/plain": [
              "(4361620, 12)"
            ]
          },
          "metadata": {},
          "execution_count": 4
        }
      ]
    },
    {
      "cell_type": "code",
      "source": [
        "\n",
        "# Specify the path to your .npy file\n",
        "file_path = '/content/drive/MyDrive/y_train_tabular.npy'\n",
        "\n",
        "# Load the .npy file\n",
        "y = np.load(file_path)\n",
        "\n",
        "# Print the array values\n",
        "print(\"Array Values:\")\n",
        "print(y)\n"
      ],
      "metadata": {
        "colab": {
          "base_uri": "https://localhost:8080/"
        },
        "id": "Dj-R9lBlnE-P",
        "outputId": "5149de1d-404c-42cd-a15b-1251b2731859"
      },
      "execution_count": 5,
      "outputs": [
        {
          "output_type": "stream",
          "name": "stdout",
          "text": [
            "Array Values:\n",
            "[[ 7.80701727 14.62264061 32.20779657 ... 52.83019066  8.73786449\n",
            "  62.36842453]\n",
            " [ 7.80701727 14.62264061 32.20779657 ... 52.83019066  8.73786449\n",
            "  62.36842453]\n",
            " [ 7.80701727 14.62264061 32.20779657 ... 52.83019066  8.73786449\n",
            "  62.36842453]\n",
            " ...\n",
            " [ 6.65093914 12.72727251 24.16666746 ... 98.12293768 57.67605007\n",
            "  65.25891781]\n",
            " [ 6.64944917 12.72727251 24.16666746 ... 98.09273243 57.67605007\n",
            "  65.27244151]\n",
            " [ 6.64795786 12.72727251 24.16666746 ... 98.06253433 57.67605007\n",
            "  65.28595984]]\n"
          ]
        }
      ]
    },
    {
      "cell_type": "code",
      "source": [
        "len(y)"
      ],
      "metadata": {
        "colab": {
          "base_uri": "https://localhost:8080/"
        },
        "id": "q6C3q8IZnZiJ",
        "outputId": "06638a5e-0b34-42ac-882b-f3382fd5dffd"
      },
      "execution_count": 6,
      "outputs": [
        {
          "output_type": "execute_result",
          "data": {
            "text/plain": [
              "4361620"
            ]
          },
          "metadata": {},
          "execution_count": 6
        }
      ]
    },
    {
      "cell_type": "code",
      "source": [
        "y.shape"
      ],
      "metadata": {
        "colab": {
          "base_uri": "https://localhost:8080/"
        },
        "id": "HGjmTv9pncvv",
        "outputId": "45710e1c-9abc-49c0-82c5-2bc204239b8b"
      },
      "execution_count": 7,
      "outputs": [
        {
          "output_type": "execute_result",
          "data": {
            "text/plain": [
              "(4361620, 14)"
            ]
          },
          "metadata": {},
          "execution_count": 7
        }
      ]
    },
    {
      "cell_type": "code",
      "source": [
        "import torch\n",
        "import torch.nn as nn\n",
        "import torch.optim as optim\n",
        "from torch.utils.data import DataLoader, TensorDataset\n",
        "\n",
        "# Assuming X is your input data and Y is your target data\n",
        "# Convert your numpy arrays to PyTorch tensors\n",
        "X = torch.tensor(x, dtype=torch.float32)\n",
        "Y = torch.tensor(y, dtype=torch.float32)"
      ],
      "metadata": {
        "id": "R8mOhUfZJ6eJ"
      },
      "execution_count": 8,
      "outputs": []
    },
    {
      "cell_type": "code",
      "source": [
        "  X"
      ],
      "metadata": {
        "colab": {
          "base_uri": "https://localhost:8080/"
        },
        "id": "rJfsnTTuKQJ3",
        "outputId": "71c5c214-0eee-4640-8acd-82456ae0f109"
      },
      "execution_count": 9,
      "outputs": [
        {
          "output_type": "execute_result",
          "data": {
            "text/plain": [
              "tensor([[-2.8512e-06,  3.3553e-06,  1.5989e-06,  ...,  1.4699e-06,\n",
              "         -5.6091e-06,  4.0181e-05],\n",
              "        [-4.6977e-06,  3.3552e-06,  1.4304e-06,  ...,  2.4782e-06,\n",
              "         -3.2594e-06,  4.9580e-05],\n",
              "        [-2.6837e-06,  4.0266e-06,  9.2632e-07,  ...,  2.4793e-06,\n",
              "         -7.0453e-08,  4.7062e-05],\n",
              "        ...,\n",
              "        [ 1.2604e-05,  3.4272e-08, -2.9845e-07,  ..., -1.0335e-05,\n",
              "         -9.0856e-06, -2.2173e-06],\n",
              "        [ 4.8833e-06, -6.3691e-07, -1.8085e-06,  ..., -4.9638e-06,\n",
              "         -1.0932e-05, -1.0425e-06],\n",
              "        [ 2.7013e-06, -1.6438e-06, -4.6614e-06,  ...,  1.4842e-05,\n",
              "         -1.1604e-05,  1.3073e-06]])"
            ]
          },
          "metadata": {},
          "execution_count": 9
        }
      ]
    },
    {
      "cell_type": "code",
      "source": [
        "Y"
      ],
      "metadata": {
        "colab": {
          "base_uri": "https://localhost:8080/"
        },
        "id": "riLlNb_TKR4t",
        "outputId": "c4579821-35a3-45f6-ad08-efa53cc2309d"
      },
      "execution_count": 10,
      "outputs": [
        {
          "output_type": "execute_result",
          "data": {
            "text/plain": [
              "tensor([[ 7.8070, 14.6226, 32.2078,  ..., 52.8302,  8.7379, 62.3684],\n",
              "        [ 7.8070, 14.6226, 32.2078,  ..., 52.8302,  8.7379, 62.3684],\n",
              "        [ 7.8070, 14.6226, 32.2078,  ..., 52.8302,  8.7379, 62.3684],\n",
              "        ...,\n",
              "        [ 6.6509, 12.7273, 24.1667,  ..., 98.1229, 57.6760, 65.2589],\n",
              "        [ 6.6494, 12.7273, 24.1667,  ..., 98.0927, 57.6760, 65.2724],\n",
              "        [ 6.6480, 12.7273, 24.1667,  ..., 98.0625, 57.6760, 65.2860]])"
            ]
          },
          "metadata": {},
          "execution_count": 10
        }
      ]
    },
    {
      "cell_type": "code",
      "source": [
        "import torch\n",
        "\n",
        "# Check if CUDA (GPU support) is available\n",
        "if torch.cuda.is_available():\n",
        "    print(\"GPU is available!\")\n",
        "else:\n",
        "    print(\"GPU is not available. Using CPU.\")"
      ],
      "metadata": {
        "colab": {
          "base_uri": "https://localhost:8080/"
        },
        "id": "2nuknndBgjiS",
        "outputId": "dd8d3537-2b5f-4665-8644-3b66a030fd4f"
      },
      "execution_count": 11,
      "outputs": [
        {
          "output_type": "stream",
          "name": "stdout",
          "text": [
            "GPU is available!\n"
          ]
        }
      ]
    },
    {
      "cell_type": "markdown",
      "source": [
        "preprocessing unit"
      ],
      "metadata": {
        "id": "D0EdCjYRod8W"
      }
    },
    {
      "cell_type": "code",
      "source": [
        "# class Processing_unit(nn.Module):\n",
        "#   def __init__(self):\n",
        "#     super(Processing_unit , self).__init__()\n",
        "#     self.ff= nn.Linear(12,1728) # 12**3\n",
        "\n",
        "#   def forward(self,x):\n",
        "#     x=self.ff(x)\n",
        "#     return x"
      ],
      "metadata": {
        "id": "Yr4AorIfjCDp"
      },
      "execution_count": 12,
      "outputs": []
    },
    {
      "cell_type": "markdown",
      "source": [
        "CNN Archticture"
      ],
      "metadata": {
        "id": "00Lv_LD-ol3U"
      }
    },
    {
      "cell_type": "code",
      "source": [
        "class CNN(nn.Module):\n",
        "    def __init__(self):\n",
        "        super(CNN, self).__init__()   # ((n+ 2p -f) / st ) +1  # 16\n",
        "        self.ff= nn.Linear(12,1728) # 12**3\n",
        "        # self.X= X.reshape((-1, 100, 16))\n",
        "        self.conv1 = nn.Conv1d(108, 256, kernel_size=3, stride=1, padding=1)  # 32 ll input channels | 64 ll output channels #16\n",
        "        self.relu1 = nn.ReLU()\n",
        "        self.pool1 = nn.MaxPool1d(kernel_size=2, stride=2) # 2  # b2t 8\n",
        "        self.conv2 = nn.Conv1d(256, 512, kernel_size=3, stride=1, padding=1) # 64 input channels | 128 output channels   #  8\n",
        "        self.relu2 = nn.ReLU()\n",
        "        self.pool2 = nn.MaxPool1d(kernel_size=2, stride=2) #2   #4\n",
        "        self.flatten = nn.Flatten()\n",
        "        self.fc1 = nn.Linear(512 * 4, 128) # 4 --> sequence length //4(34an 3aml 2 maxpool kol wa7da b 2)\n",
        "        self.relu3 = nn.ReLU()\n",
        "        self.fc2 = nn.Linear(128, 14)  # Output\n",
        "\n",
        "\n",
        "    def forward(self, x):\n",
        "        x= self.ff(x)\n",
        "        x= x.reshape((-1,108,16))\n",
        "        x = self.conv1(x)\n",
        "        x = self.relu1(x)\n",
        "        x = self.pool1(x)\n",
        "        x = self.conv2(x)\n",
        "        x = self.relu2(x)\n",
        "        x = self.pool2(x)\n",
        "        x = self.flatten(x)\n",
        "        x = self.fc1(x)\n",
        "        x = self.relu3(x)\n",
        "        x = self.fc2(x)\n",
        "        return x\n"
      ],
      "metadata": {
        "id": "pgxiIaaOOchX"
      },
      "execution_count": 13,
      "outputs": []
    },
    {
      "cell_type": "code",
      "source": [
        "# class CombinedModel(nn.Module):\n",
        "#     def __init__(self, ann, cnn):\n",
        "#         super(CombinedModel, self).__init__()\n",
        "#         self.ann = ann\n",
        "#         self.cnn = cnn\n",
        "\n",
        "#     def forward(self, x):\n",
        "#         # Forward pass through ANN\n",
        "#         x_ann = self.ann(x)\n",
        "\n",
        "#         # Forward pass through CNN with the output of ANN as input\n",
        "#         x_cnn = self.cnn(x_ann)\n",
        "\n",
        "#         return x_cnn"
      ],
      "metadata": {
        "id": "uIsJP_VLr80d"
      },
      "execution_count": 14,
      "outputs": []
    },
    {
      "cell_type": "code",
      "source": [
        "#processing_model = Processing_unit()\n",
        "cnn_model = CNN()\n",
        "\n",
        "# Combine them into a single model\n",
        "#combined_model = CombinedModel(processing_model, cnn_model)\n",
        "\n",
        "# Move the entire combined model to GPU if available\n",
        "if torch.cuda.is_available():\n",
        "    cnn_model = cnn_model.to('cuda')\n",
        "\n",
        "criterion = nn.MSELoss()\n",
        "optimizer = optim.Adam(cnn_model.parameters(), lr=0.001)\n",
        "\n",
        "\n",
        "epochs = 10\n",
        "batch_size = 50000\n",
        "\n",
        "\n",
        "dataset = TensorDataset(X, Y)\n",
        "dataloader = DataLoader(dataset, batch_size=batch_size, shuffle=True)\n"
      ],
      "metadata": {
        "id": "-BUgvjMBPUYJ"
      },
      "execution_count": 15,
      "outputs": []
    },
    {
      "cell_type": "code",
      "source": [
        "import matplotlib.pyplot as plt\n",
        "\n",
        "# Store the training loss for plotting\n",
        "\n",
        "all_losses=[]\n",
        "# Training loop\n",
        "for epoch in range(epochs):\n",
        "    epochloss=0.0\n",
        "    for batch_X, batch_Y in dataloader:\n",
        "        if torch.cuda.is_available():\n",
        "          batch_X, batch_Y  = batch_X.to('cuda'), batch_Y.to('cuda')\n",
        "        optimizer.zero_grad()\n",
        "        output = cnn_model(batch_X)\n",
        "        loss = criterion(output, batch_Y)\n",
        "        loss.backward()\n",
        "        optimizer.step()\n",
        "        epochloss += loss.item()\n",
        "    # Calculate average loss for the epoch\n",
        "    avg_epoch_loss = epochloss / len(dataloader)\n",
        "    all_losses.append(avg_epoch_loss)\n",
        "\n",
        "    print(f'Epoch {epoch+1}/{epochs}, Loss: {loss.item()}')\n",
        "\n",
        "plt.plot(all_losses, label='CNN Training Loss')\n",
        "plt.savefig('CNN.png')\n",
        "plt.xlabel('Epochs')\n",
        "plt.ylabel('Loss')\n",
        "plt.title('CNN Training Loss Over Epochs')\n",
        "plt.legend()\n",
        "plt.show()\n"
      ],
      "metadata": {
        "colab": {
          "base_uri": "https://localhost:8080/",
          "height": 646
        },
        "id": "TQkhx5JNPYIk",
        "outputId": "b14d8b1b-a334-490e-8a9f-054a4e6ca36e"
      },
      "execution_count": 20,
      "outputs": [
        {
          "output_type": "stream",
          "name": "stdout",
          "text": [
            "Epoch 1/10, Loss: 314.07281494140625\n",
            "Epoch 2/10, Loss: 312.0831298828125\n",
            "Epoch 3/10, Loss: 316.4545593261719\n",
            "Epoch 4/10, Loss: 322.19647216796875\n",
            "Epoch 5/10, Loss: 321.17144775390625\n",
            "Epoch 6/10, Loss: 317.9806823730469\n",
            "Epoch 7/10, Loss: 315.64532470703125\n",
            "Epoch 8/10, Loss: 315.44671630859375\n",
            "Epoch 9/10, Loss: 316.6859436035156\n",
            "Epoch 10/10, Loss: 318.131591796875\n"
          ]
        },
        {
          "output_type": "display_data",
          "data": {
            "text/plain": [
              "<Figure size 640x480 with 1 Axes>"
            ],
            "image/png": "[encoded data removed]"
          },
          "metadata": {}
        }
      ]
    },
    {
      "cell_type": "code",
      "source": [
        "%matplotlib inline"
      ],
      "metadata": {
        "id": "f6zoxSE3QbcN"
      },
      "execution_count": 17,
      "outputs": []
    },
    {
      "cell_type": "markdown",
      "source": [
        "conclusion :\n",
        "CNN is better than DNN but still bad and i think that due to the tabular data dont save the sequence of motion so the better to use RNN & LSTM with the sequence data to save the sequence"
      ],
      "metadata": {
        "id": "T0SD5_8MosNB"
      }
    }
  ]
}