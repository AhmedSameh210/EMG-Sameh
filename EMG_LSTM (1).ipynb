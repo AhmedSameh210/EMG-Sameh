{
  "nbformat": 4,
  "nbformat_minor": 0,
  "metadata": {
    "colab": {
      "provenance": [],
      "gpuType": "T4"
    },
    "kernelspec": {
      "name": "python3",
      "display_name": "Python 3"
    },
    "language_info": {
      "name": "python"
    },
    "accelerator": "GPU"
  },
  "cells": [
    {
      "cell_type": "code",
      "source": [
        "from google.colab import drive\n",
        "\n",
        "drive.mount('/content/drive')\n"
      ],
      "metadata": {
        "colab": {
          "base_uri": "https://localhost:8080/"
        },
        "id": "nU-W5f49gJZ9",
        "outputId": "9d1e2699-8ba2-4692-84dc-83123a6ed02a"
      },
      "execution_count": 2,
      "outputs": [
        {
          "output_type": "stream",
          "name": "stdout",
          "text": [
            "Drive already mounted at /content/drive; to attempt to forcibly remount, call drive.mount(\"/content/drive\", force_remount=True).\n"
          ]
        }
      ]
    },
    {
      "cell_type": "code",
      "execution_count": 3,
      "metadata": {
        "colab": {
          "base_uri": "https://localhost:8080/"
        },
        "id": "lDoAyaYOgCse",
        "outputId": "44f75686-1745-442a-cbd0-923a42beaca4"
      },
      "outputs": [
        {
          "output_type": "stream",
          "name": "stdout",
          "text": [
            "Array Values:\n",
            "[[[-2.85120973e-06  3.35526079e-06  1.59886599e-06 ...  1.46992363e-06\n",
            "   -5.60908893e-06  4.01809921e-05]\n",
            "  [-4.69773840e-06  3.35521236e-06  1.43044065e-06 ...  2.47816229e-06\n",
            "   -3.25939300e-06  4.95803106e-05]\n",
            "  [-2.68373401e-06  4.02655951e-06  9.26316488e-07 ...  2.47930575e-06\n",
            "   -7.04526926e-08  4.70623309e-05]\n",
            "  ...\n",
            "  [ 0.00000000e+00  0.00000000e+00  0.00000000e+00 ...  0.00000000e+00\n",
            "    0.00000000e+00  0.00000000e+00]\n",
            "  [ 0.00000000e+00  0.00000000e+00  0.00000000e+00 ...  0.00000000e+00\n",
            "    0.00000000e+00  0.00000000e+00]\n",
            "  [ 0.00000000e+00  0.00000000e+00  0.00000000e+00 ...  0.00000000e+00\n",
            "    0.00000000e+00  0.00000000e+00]]\n",
            "\n",
            " [[ 1.04389210e-05 -4.26879387e-06  3.02814669e-06 ... -4.19603680e-07\n",
            "    2.79208393e-07 -1.41459732e-05]\n",
            "  [ 1.17815825e-05 -3.93303299e-06  2.69243674e-06 ... -1.42561487e-06\n",
            "   -3.92174883e-07 -1.56555834e-05]\n",
            "  [ 1.17814507e-05 -9.11684822e-07  4.03521881e-06 ... -2.43162663e-06\n",
            "   -1.06355515e-06 -1.69973464e-05]\n",
            "  ...\n",
            "  [ 7.51823973e-06  2.87152234e-05  1.31794750e-05 ... -7.26109238e-06\n",
            "   -3.59143019e-06 -2.17704019e-05]\n",
            "  [ 1.12110956e-05  3.08974195e-05  9.65464096e-06 ... -4.74335457e-06\n",
            "   -4.26262750e-06 -1.69027080e-05]\n",
            "  [ 1.00363231e-05  2.58621039e-05  7.47260083e-06 ... -5.91829939e-06\n",
            "   -5.43736860e-06 -1.33778076e-05]]\n",
            "\n",
            " [[ 3.49037578e-06  9.41304097e-06  3.77991751e-06 ... -9.27528436e-06\n",
            "   -5.26931763e-06 -1.25384931e-05]\n",
            "  [-5.37832307e-07 -8.37881908e-06 -1.42340878e-06 ... -1.09537759e-05\n",
            "   -3.42277326e-06 -1.11956306e-05]\n",
            "  [-1.37690631e-06 -1.91210074e-05 -4.78039374e-06 ... -1.19608721e-05\n",
            "   -1.24053179e-06 -9.68491622e-06]\n",
            "  ...\n",
            "  [ 0.00000000e+00  0.00000000e+00  0.00000000e+00 ...  0.00000000e+00\n",
            "    0.00000000e+00  0.00000000e+00]\n",
            "  [ 0.00000000e+00  0.00000000e+00  0.00000000e+00 ...  0.00000000e+00\n",
            "    0.00000000e+00  0.00000000e+00]\n",
            "  [ 0.00000000e+00  0.00000000e+00  0.00000000e+00 ...  0.00000000e+00\n",
            "    0.00000000e+00  0.00000000e+00]]\n",
            "\n",
            " ...\n",
            "\n",
            " [[-8.90621686e-06 -3.38145446e-06 -8.55054986e-06 ...  4.90184675e-06\n",
            "   -4.45459182e-06  1.17286356e-06]\n",
            "  [-7.22756431e-06  6.35355264e-06 -5.02571584e-06 ...  3.39239637e-06\n",
            "   -3.11183749e-06  6.63505034e-07]\n",
            "  [-5.04536411e-06  1.10530809e-05 -6.61636079e-07 ...  2.21864411e-06\n",
            "   -1.43338616e-06 -2.19573872e-06]\n",
            "  ...\n",
            "  [ 0.00000000e+00  0.00000000e+00  0.00000000e+00 ...  0.00000000e+00\n",
            "    0.00000000e+00  0.00000000e+00]\n",
            "  [ 0.00000000e+00  0.00000000e+00  0.00000000e+00 ...  0.00000000e+00\n",
            "    0.00000000e+00  0.00000000e+00]\n",
            "  [ 0.00000000e+00  0.00000000e+00  0.00000000e+00 ...  0.00000000e+00\n",
            "    0.00000000e+00  0.00000000e+00]]\n",
            "\n",
            " [[ 6.45286991e-06  5.76594630e-06 -4.27349704e-07 ...  4.66471829e-06\n",
            "    1.77694437e-06 -8.47500123e-05]\n",
            "  [ 5.10972995e-06 -8.66929531e-06 -3.44910313e-06 ...  3.82448252e-06\n",
            "    1.10545784e-06 -8.47503034e-05]\n",
            "  [-1.94028325e-06 -2.41116340e-05 -6.13515886e-06 ...  4.15919067e-06\n",
            "   -5.73122577e-07 -3.92634574e-05]\n",
            "  ...\n",
            "  [ 0.00000000e+00  0.00000000e+00  0.00000000e+00 ...  0.00000000e+00\n",
            "    0.00000000e+00  0.00000000e+00]\n",
            "  [ 0.00000000e+00  0.00000000e+00  0.00000000e+00 ...  0.00000000e+00\n",
            "    0.00000000e+00  0.00000000e+00]\n",
            "  [ 0.00000000e+00  0.00000000e+00  0.00000000e+00 ...  0.00000000e+00\n",
            "    0.00000000e+00  0.00000000e+00]]\n",
            "\n",
            " [[ 1.64620811e-04 -2.08593410e-05  3.70812313e-06 ... -9.91456454e-06\n",
            "   -2.39017413e-06  3.29805480e-05]\n",
            "  [ 8.74104298e-05 -1.64955218e-05  1.35823382e-06 ... -1.19287542e-05\n",
            "   -4.40413260e-06 -9.47973331e-06]\n",
            "  [ 3.83987208e-05 -8.27117128e-06 -1.15950468e-06 ... -9.91456454e-06\n",
            "   -4.40390022e-06 -2.65947856e-05]\n",
            "  ...\n",
            "  [ 0.00000000e+00  0.00000000e+00  0.00000000e+00 ...  0.00000000e+00\n",
            "    0.00000000e+00  0.00000000e+00]\n",
            "  [ 0.00000000e+00  0.00000000e+00  0.00000000e+00 ...  0.00000000e+00\n",
            "    0.00000000e+00  0.00000000e+00]\n",
            "  [ 0.00000000e+00  0.00000000e+00  0.00000000e+00 ...  0.00000000e+00\n",
            "    0.00000000e+00  0.00000000e+00]]]\n"
          ]
        }
      ],
      "source": [
        "import numpy as np\n",
        "\n",
        "# Specify the path to your .npy file\n",
        "file_path = '/content/drive/MyDrive/X_train_padding.npy'\n",
        "\n",
        "# Load the .npy file\n",
        "x = np.load(file_path)\n",
        "\n",
        "# Print the array values\n",
        "print(\"Array Values:\")\n",
        "print(x)\n"
      ]
    },
    {
      "cell_type": "code",
      "source": [
        "len(x)"
      ],
      "metadata": {
        "colab": {
          "base_uri": "https://localhost:8080/"
        },
        "id": "Beqiw-RKgnWO",
        "outputId": "467317c4-8d38-431b-98ff-e122ee974f13"
      },
      "execution_count": 4,
      "outputs": [
        {
          "output_type": "execute_result",
          "data": {
            "text/plain": [
              "203"
            ]
          },
          "metadata": {},
          "execution_count": 4
        }
      ]
    },
    {
      "cell_type": "code",
      "source": [
        "x.shape"
      ],
      "metadata": {
        "colab": {
          "base_uri": "https://localhost:8080/"
        },
        "id": "4o82FE0ugqGY",
        "outputId": "b0a85e23-7ab5-4f41-e071-a384b81b4a9d"
      },
      "execution_count": 5,
      "outputs": [
        {
          "output_type": "execute_result",
          "data": {
            "text/plain": [
              "(203, 12246, 12)"
            ]
          },
          "metadata": {},
          "execution_count": 5
        }
      ]
    },
    {
      "cell_type": "code",
      "source": [
        "import numpy as np\n",
        "\n",
        "# Specify the path to your .npy file\n",
        "file_path = '/content/drive/MyDrive/y_train_padding.npy'\n",
        "\n",
        "# Load the .npy file\n",
        "y = np.load(file_path)\n",
        "\n",
        "# Print the array values\n",
        "print(\"Array Values:\")\n",
        "print(y)\n"
      ],
      "metadata": {
        "colab": {
          "base_uri": "https://localhost:8080/"
        },
        "id": "PxHsWwBchRTy",
        "outputId": "a84cd1e9-1f81-4af1-ef7f-477202ced76b"
      },
      "execution_count": 6,
      "outputs": [
        {
          "output_type": "stream",
          "name": "stdout",
          "text": [
            "Array Values:\n",
            "[[[  7.80701727  14.62264061  32.20779657 ...  52.83019066   8.73786449\n",
            "    62.36842453]\n",
            "  [  7.80701727  14.62264061  32.20779657 ...  52.83019066   8.73786449\n",
            "    62.36842453]\n",
            "  [  7.80701727  14.62264061  32.20779657 ...  52.83019066   8.73786449\n",
            "    62.36842453]\n",
            "  ...\n",
            "  [  0.           0.           0.         ...   0.           0.\n",
            "     0.        ]\n",
            "  [  0.           0.           0.         ...   0.           0.\n",
            "     0.        ]\n",
            "  [  0.           0.           0.         ...   0.           0.\n",
            "     0.        ]]\n",
            "\n",
            " [[  7.19298229  11.32075489  28.05195093 ...  45.28301954   9.61165108\n",
            "    64.73684728]\n",
            "  [  7.19298229  11.32075489  28.05195093 ...  45.28301954   9.61165108\n",
            "    64.73684728]\n",
            "  [  7.19298229  11.32075489  28.05195093 ...  45.28301954   9.61165108\n",
            "    64.73684728]\n",
            "  ...\n",
            "  [  3.60272638  25.47169924  45.7881403  ... 107.16980696  53.3009702\n",
            "    70.26316345]\n",
            "  [  3.60155448  25.47169924  45.77425957 ... 107.16980696  53.3009702\n",
            "    70.26316345]\n",
            "  [  3.60038236  25.47169924  45.76037884 ... 107.16980696  53.3009702\n",
            "    70.26316345]]\n",
            "\n",
            " [[  3.59921023  25.47169924  45.74649334 ... 107.16980696  53.3009702\n",
            "    70.26316345]\n",
            "  [  3.59803855  25.47169924  45.73261738 ... 107.16980696  53.3009702\n",
            "    70.26316345]\n",
            "  [  3.59686643  25.47169924  45.71873188 ... 107.16980696  53.3009702\n",
            "    70.26316345]\n",
            "  ...\n",
            "  [  0.           0.           0.         ...   0.           0.\n",
            "     0.        ]\n",
            "  [  0.           0.           0.         ...   0.           0.\n",
            "     0.        ]\n",
            "  [  0.           0.           0.         ...   0.           0.\n",
            "     0.        ]]\n",
            "\n",
            " ...\n",
            "\n",
            " [[  7.44299904  16.03773534  19.74026084 ...  92.07546473  30.58252573\n",
            "    66.31579399]\n",
            "  [  7.44220242  16.03773534  19.74026084 ...  92.07546473  30.58252573\n",
            "    66.31579399]\n",
            "  [  7.44140714  16.03773534  19.74026084 ...  92.07546473  30.58252573\n",
            "    66.31579399]\n",
            "  ...\n",
            "  [  0.           0.           0.         ...   0.           0.\n",
            "     0.        ]\n",
            "  [  0.           0.           0.         ...   0.           0.\n",
            "     0.        ]\n",
            "  [  0.           0.           0.         ...   0.           0.\n",
            "     0.        ]]\n",
            "\n",
            " [[  7.01754391  16.03773534  20.77922344 ...  90.56603193  29.70873713\n",
            "    65.52632332]\n",
            "  [  7.01754391  16.03773534  20.77922344 ...  90.56603193  29.70873713\n",
            "    65.52632332]\n",
            "  [  7.01754391  16.03773534  20.77922344 ...  90.56603193  29.70873713\n",
            "    65.52632332]\n",
            "  ...\n",
            "  [  0.           0.           0.         ...   0.           0.\n",
            "     0.        ]\n",
            "  [  0.           0.           0.         ...   0.           0.\n",
            "     0.        ]\n",
            "  [  0.           0.           0.         ...   0.           0.\n",
            "     0.        ]]\n",
            "\n",
            " [[  6.84210509  15.60295224  20.77922344 ...  81.568501    18.28113198\n",
            "    71.84211016]\n",
            "  [  6.84210509  15.59756398  20.77922344 ...  81.55986786  18.29111382\n",
            "    71.84211016]\n",
            "  [  6.84210509  15.59217423  20.77922344 ...  81.55124903  18.30109701\n",
            "    71.84211016]\n",
            "  ...\n",
            "  [  0.           0.           0.         ...   0.           0.\n",
            "     0.        ]\n",
            "  [  0.           0.           0.         ...   0.           0.\n",
            "     0.        ]\n",
            "  [  0.           0.           0.         ...   0.           0.\n",
            "     0.        ]]]\n"
          ]
        }
      ]
    },
    {
      "cell_type": "code",
      "source": [
        "len(y)"
      ],
      "metadata": {
        "colab": {
          "base_uri": "https://localhost:8080/"
        },
        "id": "KolplHgphWvK",
        "outputId": "c9452fe0-cb81-4636-815a-b87210d2a494"
      },
      "execution_count": 7,
      "outputs": [
        {
          "output_type": "execute_result",
          "data": {
            "text/plain": [
              "203"
            ]
          },
          "metadata": {},
          "execution_count": 7
        }
      ]
    },
    {
      "cell_type": "code",
      "source": [
        "y.shape"
      ],
      "metadata": {
        "colab": {
          "base_uri": "https://localhost:8080/"
        },
        "id": "ieHJbzlWhVk8",
        "outputId": "f6c1c59c-2345-4f94-8a51-7adcd002173a"
      },
      "execution_count": 8,
      "outputs": [
        {
          "output_type": "execute_result",
          "data": {
            "text/plain": [
              "(203, 12246, 14)"
            ]
          },
          "metadata": {},
          "execution_count": 8
        }
      ]
    },
    {
      "cell_type": "code",
      "source": [
        "import torch\n",
        "import torch.nn as nn\n",
        "import torch.optim as optim\n",
        "from torch.utils.data import DataLoader, TensorDataset\n",
        "\n",
        "# Assuming X is your input data and Y is your target data\n",
        "# Convert your numpy arrays to PyTorch tensors\n",
        "X = torch.tensor(x, dtype=torch.float32)\n",
        "Y = torch.tensor(y, dtype=torch.float32)"
      ],
      "metadata": {
        "id": "NCo3ParBjG9Q"
      },
      "execution_count": 9,
      "outputs": []
    },
    {
      "cell_type": "code",
      "source": [
        "X"
      ],
      "metadata": {
        "colab": {
          "base_uri": "https://localhost:8080/"
        },
        "id": "zV7YtLgPjIdB",
        "outputId": "03c49df0-f81a-4d21-b8a5-024a7a3e3775"
      },
      "execution_count": 10,
      "outputs": [
        {
          "output_type": "execute_result",
          "data": {
            "text/plain": [
              "tensor([[[-2.8512e-06,  3.3553e-06,  1.5989e-06,  ...,  1.4699e-06,\n",
              "          -5.6091e-06,  4.0181e-05],\n",
              "         [-4.6977e-06,  3.3552e-06,  1.4304e-06,  ...,  2.4782e-06,\n",
              "          -3.2594e-06,  4.9580e-05],\n",
              "         [-2.6837e-06,  4.0266e-06,  9.2632e-07,  ...,  2.4793e-06,\n",
              "          -7.0453e-08,  4.7062e-05],\n",
              "         ...,\n",
              "         [ 0.0000e+00,  0.0000e+00,  0.0000e+00,  ...,  0.0000e+00,\n",
              "           0.0000e+00,  0.0000e+00],\n",
              "         [ 0.0000e+00,  0.0000e+00,  0.0000e+00,  ...,  0.0000e+00,\n",
              "           0.0000e+00,  0.0000e+00],\n",
              "         [ 0.0000e+00,  0.0000e+00,  0.0000e+00,  ...,  0.0000e+00,\n",
              "           0.0000e+00,  0.0000e+00]],\n",
              "\n",
              "        [[ 1.0439e-05, -4.2688e-06,  3.0281e-06,  ..., -4.1960e-07,\n",
              "           2.7921e-07, -1.4146e-05],\n",
              "         [ 1.1782e-05, -3.9330e-06,  2.6924e-06,  ..., -1.4256e-06,\n",
              "          -3.9217e-07, -1.5656e-05],\n",
              "         [ 1.1781e-05, -9.1168e-07,  4.0352e-06,  ..., -2.4316e-06,\n",
              "          -1.0636e-06, -1.6997e-05],\n",
              "         ...,\n",
              "         [ 7.5182e-06,  2.8715e-05,  1.3179e-05,  ..., -7.2611e-06,\n",
              "          -3.5914e-06, -2.1770e-05],\n",
              "         [ 1.1211e-05,  3.0897e-05,  9.6546e-06,  ..., -4.7434e-06,\n",
              "          -4.2626e-06, -1.6903e-05],\n",
              "         [ 1.0036e-05,  2.5862e-05,  7.4726e-06,  ..., -5.9183e-06,\n",
              "          -5.4374e-06, -1.3378e-05]],\n",
              "\n",
              "        [[ 3.4904e-06,  9.4130e-06,  3.7799e-06,  ..., -9.2753e-06,\n",
              "          -5.2693e-06, -1.2538e-05],\n",
              "         [-5.3783e-07, -8.3788e-06, -1.4234e-06,  ..., -1.0954e-05,\n",
              "          -3.4228e-06, -1.1196e-05],\n",
              "         [-1.3769e-06, -1.9121e-05, -4.7804e-06,  ..., -1.1961e-05,\n",
              "          -1.2405e-06, -9.6849e-06],\n",
              "         ...,\n",
              "         [ 0.0000e+00,  0.0000e+00,  0.0000e+00,  ...,  0.0000e+00,\n",
              "           0.0000e+00,  0.0000e+00],\n",
              "         [ 0.0000e+00,  0.0000e+00,  0.0000e+00,  ...,  0.0000e+00,\n",
              "           0.0000e+00,  0.0000e+00],\n",
              "         [ 0.0000e+00,  0.0000e+00,  0.0000e+00,  ...,  0.0000e+00,\n",
              "           0.0000e+00,  0.0000e+00]],\n",
              "\n",
              "        ...,\n",
              "\n",
              "        [[-8.9062e-06, -3.3815e-06, -8.5505e-06,  ...,  4.9018e-06,\n",
              "          -4.4546e-06,  1.1729e-06],\n",
              "         [-7.2276e-06,  6.3536e-06, -5.0257e-06,  ...,  3.3924e-06,\n",
              "          -3.1118e-06,  6.6351e-07],\n",
              "         [-5.0454e-06,  1.1053e-05, -6.6164e-07,  ...,  2.2186e-06,\n",
              "          -1.4334e-06, -2.1957e-06],\n",
              "         ...,\n",
              "         [ 0.0000e+00,  0.0000e+00,  0.0000e+00,  ...,  0.0000e+00,\n",
              "           0.0000e+00,  0.0000e+00],\n",
              "         [ 0.0000e+00,  0.0000e+00,  0.0000e+00,  ...,  0.0000e+00,\n",
              "           0.0000e+00,  0.0000e+00],\n",
              "         [ 0.0000e+00,  0.0000e+00,  0.0000e+00,  ...,  0.0000e+00,\n",
              "           0.0000e+00,  0.0000e+00]],\n",
              "\n",
              "        [[ 6.4529e-06,  5.7659e-06, -4.2735e-07,  ...,  4.6647e-06,\n",
              "           1.7769e-06, -8.4750e-05],\n",
              "         [ 5.1097e-06, -8.6693e-06, -3.4491e-06,  ...,  3.8245e-06,\n",
              "           1.1055e-06, -8.4750e-05],\n",
              "         [-1.9403e-06, -2.4112e-05, -6.1352e-06,  ...,  4.1592e-06,\n",
              "          -5.7312e-07, -3.9263e-05],\n",
              "         ...,\n",
              "         [ 0.0000e+00,  0.0000e+00,  0.0000e+00,  ...,  0.0000e+00,\n",
              "           0.0000e+00,  0.0000e+00],\n",
              "         [ 0.0000e+00,  0.0000e+00,  0.0000e+00,  ...,  0.0000e+00,\n",
              "           0.0000e+00,  0.0000e+00],\n",
              "         [ 0.0000e+00,  0.0000e+00,  0.0000e+00,  ...,  0.0000e+00,\n",
              "           0.0000e+00,  0.0000e+00]],\n",
              "\n",
              "        [[ 1.6462e-04, -2.0859e-05,  3.7081e-06,  ..., -9.9146e-06,\n",
              "          -2.3902e-06,  3.2981e-05],\n",
              "         [ 8.7410e-05, -1.6496e-05,  1.3582e-06,  ..., -1.1929e-05,\n",
              "          -4.4041e-06, -9.4797e-06],\n",
              "         [ 3.8399e-05, -8.2712e-06, -1.1595e-06,  ..., -9.9146e-06,\n",
              "          -4.4039e-06, -2.6595e-05],\n",
              "         ...,\n",
              "         [ 0.0000e+00,  0.0000e+00,  0.0000e+00,  ...,  0.0000e+00,\n",
              "           0.0000e+00,  0.0000e+00],\n",
              "         [ 0.0000e+00,  0.0000e+00,  0.0000e+00,  ...,  0.0000e+00,\n",
              "           0.0000e+00,  0.0000e+00],\n",
              "         [ 0.0000e+00,  0.0000e+00,  0.0000e+00,  ...,  0.0000e+00,\n",
              "           0.0000e+00,  0.0000e+00]]])"
            ]
          },
          "metadata": {},
          "execution_count": 10
        }
      ]
    },
    {
      "cell_type": "code",
      "source": [
        "Y"
      ],
      "metadata": {
        "colab": {
          "base_uri": "https://localhost:8080/"
        },
        "id": "4c45hoBDjKeu",
        "outputId": "30ff54fd-8305-44a1-b4ec-9c1efc375e8a"
      },
      "execution_count": 11,
      "outputs": [
        {
          "output_type": "execute_result",
          "data": {
            "text/plain": [
              "tensor([[[  7.8070,  14.6226,  32.2078,  ...,  52.8302,   8.7379,  62.3684],\n",
              "         [  7.8070,  14.6226,  32.2078,  ...,  52.8302,   8.7379,  62.3684],\n",
              "         [  7.8070,  14.6226,  32.2078,  ...,  52.8302,   8.7379,  62.3684],\n",
              "         ...,\n",
              "         [  0.0000,   0.0000,   0.0000,  ...,   0.0000,   0.0000,   0.0000],\n",
              "         [  0.0000,   0.0000,   0.0000,  ...,   0.0000,   0.0000,   0.0000],\n",
              "         [  0.0000,   0.0000,   0.0000,  ...,   0.0000,   0.0000,   0.0000]],\n",
              "\n",
              "        [[  7.1930,  11.3208,  28.0520,  ...,  45.2830,   9.6117,  64.7368],\n",
              "         [  7.1930,  11.3208,  28.0520,  ...,  45.2830,   9.6117,  64.7368],\n",
              "         [  7.1930,  11.3208,  28.0520,  ...,  45.2830,   9.6117,  64.7368],\n",
              "         ...,\n",
              "         [  3.6027,  25.4717,  45.7881,  ..., 107.1698,  53.3010,  70.2632],\n",
              "         [  3.6016,  25.4717,  45.7743,  ..., 107.1698,  53.3010,  70.2632],\n",
              "         [  3.6004,  25.4717,  45.7604,  ..., 107.1698,  53.3010,  70.2632]],\n",
              "\n",
              "        [[  3.5992,  25.4717,  45.7465,  ..., 107.1698,  53.3010,  70.2632],\n",
              "         [  3.5980,  25.4717,  45.7326,  ..., 107.1698,  53.3010,  70.2632],\n",
              "         [  3.5969,  25.4717,  45.7187,  ..., 107.1698,  53.3010,  70.2632],\n",
              "         ...,\n",
              "         [  0.0000,   0.0000,   0.0000,  ...,   0.0000,   0.0000,   0.0000],\n",
              "         [  0.0000,   0.0000,   0.0000,  ...,   0.0000,   0.0000,   0.0000],\n",
              "         [  0.0000,   0.0000,   0.0000,  ...,   0.0000,   0.0000,   0.0000]],\n",
              "\n",
              "        ...,\n",
              "\n",
              "        [[  7.4430,  16.0377,  19.7403,  ...,  92.0755,  30.5825,  66.3158],\n",
              "         [  7.4422,  16.0377,  19.7403,  ...,  92.0755,  30.5825,  66.3158],\n",
              "         [  7.4414,  16.0377,  19.7403,  ...,  92.0755,  30.5825,  66.3158],\n",
              "         ...,\n",
              "         [  0.0000,   0.0000,   0.0000,  ...,   0.0000,   0.0000,   0.0000],\n",
              "         [  0.0000,   0.0000,   0.0000,  ...,   0.0000,   0.0000,   0.0000],\n",
              "         [  0.0000,   0.0000,   0.0000,  ...,   0.0000,   0.0000,   0.0000]],\n",
              "\n",
              "        [[  7.0175,  16.0377,  20.7792,  ...,  90.5660,  29.7087,  65.5263],\n",
              "         [  7.0175,  16.0377,  20.7792,  ...,  90.5660,  29.7087,  65.5263],\n",
              "         [  7.0175,  16.0377,  20.7792,  ...,  90.5660,  29.7087,  65.5263],\n",
              "         ...,\n",
              "         [  0.0000,   0.0000,   0.0000,  ...,   0.0000,   0.0000,   0.0000],\n",
              "         [  0.0000,   0.0000,   0.0000,  ...,   0.0000,   0.0000,   0.0000],\n",
              "         [  0.0000,   0.0000,   0.0000,  ...,   0.0000,   0.0000,   0.0000]],\n",
              "\n",
              "        [[  6.8421,  15.6030,  20.7792,  ...,  81.5685,  18.2811,  71.8421],\n",
              "         [  6.8421,  15.5976,  20.7792,  ...,  81.5599,  18.2911,  71.8421],\n",
              "         [  6.8421,  15.5922,  20.7792,  ...,  81.5512,  18.3011,  71.8421],\n",
              "         ...,\n",
              "         [  0.0000,   0.0000,   0.0000,  ...,   0.0000,   0.0000,   0.0000],\n",
              "         [  0.0000,   0.0000,   0.0000,  ...,   0.0000,   0.0000,   0.0000],\n",
              "         [  0.0000,   0.0000,   0.0000,  ...,   0.0000,   0.0000,   0.0000]]])"
            ]
          },
          "metadata": {},
          "execution_count": 11
        }
      ]
    },
    {
      "cell_type": "code",
      "source": [
        "import torch\n",
        "\n",
        "# Check if CUDA (GPU support) is available\n",
        "if torch.cuda.is_available():\n",
        "    print(\"GPU is available!\")\n",
        "else:\n",
        "    print(\"GPU is not available. Using CPU.\")"
      ],
      "metadata": {
        "colab": {
          "base_uri": "https://localhost:8080/"
        },
        "id": "pYLvQCP4jN6s",
        "outputId": "af3c5ed4-9c16-4b5b-c3fa-0d5a2882c822"
      },
      "execution_count": 12,
      "outputs": [
        {
          "output_type": "stream",
          "name": "stdout",
          "text": [
            "GPU is not available. Using CPU.\n"
          ]
        }
      ]
    },
    {
      "cell_type": "code",
      "source": [
        "import torch\n",
        "import torch.nn as nn\n",
        "\n",
        "class MyLSTMModel(nn.Module):\n",
        "    def __init__(self, input_size, hidden_size, num_layers, output_size):\n",
        "        super(MyLSTMModel, self).__init__()\n",
        "        self.lstm = nn.LSTM(input_size, hidden_size, num_layers, batch_first=True)\n",
        "        self.fc = nn.Linear(hidden_size, output_size)\n",
        "\n",
        "    def forward(self, x):\n",
        "        h0 = torch.zeros(self.lstm.num_layers, x.size(0), self.lstm.hidden_size).to(x.device)\n",
        "        c0 = torch.zeros(self.lstm.num_layers, x.size(0), self.lstm.hidden_size).to(x.device)\n",
        "\n",
        "        out, _ = self.lstm(x, (h0.detach(), c0.detach()))\n",
        "\n",
        "        # Apply the fully connected layer to each time step\n",
        "        out = self.fc(out)\n",
        "\n",
        "        return out\n",
        "\n",
        "\n",
        "# Define the input and target dimensions\n",
        "input_dim = 12\n",
        "output_dim = 14\n",
        "hidden_dim = 64\n",
        "num_layers = 3\n",
        "batch_size = 64\n",
        "# Create the LSTM model\n",
        "model = MyLSTMModel(input_dim, hidden_dim, num_layers, output_dim)\n",
        "if torch.cuda.is_available():\n",
        "  model=model.to('cuda')\n",
        "# Print the model architecture\n",
        "print(model)\n",
        "\n",
        "# Define your loss function (e.g., Mean Squared Error) and optimizer\n",
        "criterion = nn.MSELoss()\n",
        "optimizer = torch.optim.Adam(model.parameters(), lr=0.001)\n",
        "dataset = TensorDataset(X, Y)\n",
        "dataloader = DataLoader(dataset, batch_size=batch_size, shuffle=True)"
      ],
      "metadata": {
        "colab": {
          "base_uri": "https://localhost:8080/"
        },
        "id": "An5Fcz-xh_Jb",
        "outputId": "0e8a6e7c-09ee-43d1-e1ba-3972648f9958"
      },
      "execution_count": 13,
      "outputs": [
        {
          "output_type": "stream",
          "name": "stdout",
          "text": [
            "MyLSTMModel(\n",
            "  (lstm): LSTM(12, 64, num_layers=3, batch_first=True)\n",
            "  (fc): Linear(in_features=64, out_features=14, bias=True)\n",
            ")\n"
          ]
        }
      ]
    },
    {
      "cell_type": "code",
      "source": [
        "import matplotlib.pyplot as plt\n",
        "# Training loop with loss plotting\n",
        "num_epochs = 10\n",
        "all_losses = []\n",
        "\n",
        "for epoch in range(num_epochs):\n",
        "    epoch_loss = 0.0\n",
        "\n",
        "    for batch_data, batch_target in dataloader:\n",
        "        if torch.cuda.is_available():\n",
        "          batch_data, batch_target  = batch_data.to('cuda'), batch_target.to('cuda')\n",
        "        model.train()\n",
        "        optimizer.zero_grad()\n",
        "        outputs = model(batch_data)\n",
        "        loss = criterion(outputs, batch_target)\n",
        "        loss.backward()\n",
        "        optimizer.step()\n",
        "\n",
        "        # Accumulate the loss for the current batch\n",
        "        epoch_loss += loss.item()\n",
        "\n",
        "    # Calculate average loss for the epoch\n",
        "    avg_epoch_loss = epoch_loss / len(dataloader)\n",
        "\n",
        "    # Print the average loss for the epoch\n",
        "    print(f'Epoch [{epoch+1}/{num_epochs}], Avg. Loss: {avg_epoch_loss:.4f}')\n",
        "\n",
        "    # Save the average loss for plotting\n",
        "    all_losses.append(avg_epoch_loss)\n",
        "\n",
        "# Plot the training loss\n",
        "plt.plot(all_losses, label='Training Loss')\n",
        "plt.savefig('LSTM.png')\n",
        "plt.title('Training Loss Over Epochs')\n",
        "plt.xlabel('Epoch')\n",
        "plt.ylabel('Average Loss')\n",
        "plt.legend()\n",
        "plt.show()\n"
      ],
      "metadata": {
        "colab": {
          "base_uri": "https://localhost:8080/",
          "height": 646
        },
        "id": "4cUciarEikUj",
        "outputId": "c560f745-4e70-4724-d666-526e7a260093"
      },
      "execution_count": 14,
      "outputs": [
        {
          "output_type": "stream",
          "name": "stdout",
          "text": [
            "Epoch [1/10], Avg. Loss: 1746.6117\n",
            "Epoch [2/10], Avg. Loss: 1754.2153\n",
            "Epoch [3/10], Avg. Loss: 1741.6612\n",
            "Epoch [4/10], Avg. Loss: 1695.6598\n",
            "Epoch [5/10], Avg. Loss: 1734.2982\n",
            "Epoch [6/10], Avg. Loss: 1597.0347\n",
            "Epoch [7/10], Avg. Loss: 1554.6324\n",
            "Epoch [8/10], Avg. Loss: 1688.1618\n",
            "Epoch [9/10], Avg. Loss: 1589.7403\n",
            "Epoch [10/10], Avg. Loss: 1562.9106\n"
          ]
        },
        {
          "output_type": "display_data",
          "data": {
            "text/plain": [
              "<Figure size 640x480 with 1 Axes>"
            ],
            "image/png": "[encoded data removed]"
          },
          "metadata": {}
        }
      ]
    },
    {
      "cell_type": "markdown",
      "source": [
        "conclusion : its very bad so you want to merge cnn to this lstm to gain better insights for higher accuracy"
      ],
      "metadata": {
        "id": "ZIkJEcki3PeY"
      }
    }
  ]
}